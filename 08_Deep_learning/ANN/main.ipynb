{
 "cells": [
  {
   "cell_type": "markdown",
   "metadata": {},
   "source": [
    "## Bibliotecas"
   ]
  },
  {
   "cell_type": "code",
   "execution_count": 1,
   "metadata": {},
   "outputs": [],
   "source": [
    "import pandas as pd\n",
    "import numpy as np\n",
    "import matplotlib.pyplot as plt"
   ]
  },
  {
   "cell_type": "markdown",
   "metadata": {},
   "source": [
    "## Visualizar dataset"
   ]
  },
  {
   "cell_type": "code",
   "execution_count": 2,
   "metadata": {},
   "outputs": [
    {
     "data": {
      "text/html": [
       "<div>\n",
       "<style scoped>\n",
       "    .dataframe tbody tr th:only-of-type {\n",
       "        vertical-align: middle;\n",
       "    }\n",
       "\n",
       "    .dataframe tbody tr th {\n",
       "        vertical-align: top;\n",
       "    }\n",
       "\n",
       "    .dataframe thead th {\n",
       "        text-align: right;\n",
       "    }\n",
       "</style>\n",
       "<table border=\"1\" class=\"dataframe\">\n",
       "  <thead>\n",
       "    <tr style=\"text-align: right;\">\n",
       "      <th></th>\n",
       "      <th>RowNumber</th>\n",
       "      <th>CustomerId</th>\n",
       "      <th>Surname</th>\n",
       "      <th>CreditScore</th>\n",
       "      <th>Geography</th>\n",
       "      <th>Gender</th>\n",
       "      <th>Age</th>\n",
       "      <th>Tenure</th>\n",
       "      <th>Balance</th>\n",
       "      <th>NumOfProducts</th>\n",
       "      <th>HasCrCard</th>\n",
       "      <th>IsActiveMember</th>\n",
       "      <th>EstimatedSalary</th>\n",
       "      <th>Exited</th>\n",
       "    </tr>\n",
       "  </thead>\n",
       "  <tbody>\n",
       "    <tr>\n",
       "      <th>0</th>\n",
       "      <td>1</td>\n",
       "      <td>15634602</td>\n",
       "      <td>Hargrave</td>\n",
       "      <td>619</td>\n",
       "      <td>France</td>\n",
       "      <td>Female</td>\n",
       "      <td>42</td>\n",
       "      <td>2</td>\n",
       "      <td>0.00</td>\n",
       "      <td>1</td>\n",
       "      <td>1</td>\n",
       "      <td>1</td>\n",
       "      <td>101348.88</td>\n",
       "      <td>1</td>\n",
       "    </tr>\n",
       "    <tr>\n",
       "      <th>1</th>\n",
       "      <td>2</td>\n",
       "      <td>15647311</td>\n",
       "      <td>Hill</td>\n",
       "      <td>608</td>\n",
       "      <td>Spain</td>\n",
       "      <td>Female</td>\n",
       "      <td>41</td>\n",
       "      <td>1</td>\n",
       "      <td>83807.86</td>\n",
       "      <td>1</td>\n",
       "      <td>0</td>\n",
       "      <td>1</td>\n",
       "      <td>112542.58</td>\n",
       "      <td>0</td>\n",
       "    </tr>\n",
       "    <tr>\n",
       "      <th>2</th>\n",
       "      <td>3</td>\n",
       "      <td>15619304</td>\n",
       "      <td>Onio</td>\n",
       "      <td>502</td>\n",
       "      <td>France</td>\n",
       "      <td>Female</td>\n",
       "      <td>42</td>\n",
       "      <td>8</td>\n",
       "      <td>159660.80</td>\n",
       "      <td>3</td>\n",
       "      <td>1</td>\n",
       "      <td>0</td>\n",
       "      <td>113931.57</td>\n",
       "      <td>1</td>\n",
       "    </tr>\n",
       "    <tr>\n",
       "      <th>3</th>\n",
       "      <td>4</td>\n",
       "      <td>15701354</td>\n",
       "      <td>Boni</td>\n",
       "      <td>699</td>\n",
       "      <td>France</td>\n",
       "      <td>Female</td>\n",
       "      <td>39</td>\n",
       "      <td>1</td>\n",
       "      <td>0.00</td>\n",
       "      <td>2</td>\n",
       "      <td>0</td>\n",
       "      <td>0</td>\n",
       "      <td>93826.63</td>\n",
       "      <td>0</td>\n",
       "    </tr>\n",
       "    <tr>\n",
       "      <th>4</th>\n",
       "      <td>5</td>\n",
       "      <td>15737888</td>\n",
       "      <td>Mitchell</td>\n",
       "      <td>850</td>\n",
       "      <td>Spain</td>\n",
       "      <td>Female</td>\n",
       "      <td>43</td>\n",
       "      <td>2</td>\n",
       "      <td>125510.82</td>\n",
       "      <td>1</td>\n",
       "      <td>1</td>\n",
       "      <td>1</td>\n",
       "      <td>79084.10</td>\n",
       "      <td>0</td>\n",
       "    </tr>\n",
       "  </tbody>\n",
       "</table>\n",
       "</div>"
      ],
      "text/plain": [
       "   RowNumber  CustomerId   Surname  CreditScore Geography  Gender  Age   \n",
       "0          1    15634602  Hargrave          619    France  Female   42  \\\n",
       "1          2    15647311      Hill          608     Spain  Female   41   \n",
       "2          3    15619304      Onio          502    France  Female   42   \n",
       "3          4    15701354      Boni          699    France  Female   39   \n",
       "4          5    15737888  Mitchell          850     Spain  Female   43   \n",
       "\n",
       "   Tenure    Balance  NumOfProducts  HasCrCard  IsActiveMember   \n",
       "0       2       0.00              1          1               1  \\\n",
       "1       1   83807.86              1          0               1   \n",
       "2       8  159660.80              3          1               0   \n",
       "3       1       0.00              2          0               0   \n",
       "4       2  125510.82              1          1               1   \n",
       "\n",
       "   EstimatedSalary  Exited  \n",
       "0        101348.88       1  \n",
       "1        112542.58       0  \n",
       "2        113931.57       1  \n",
       "3         93826.63       0  \n",
       "4         79084.10       0  "
      ]
     },
     "execution_count": 2,
     "metadata": {},
     "output_type": "execute_result"
    }
   ],
   "source": [
    "dataset = pd.read_csv('Churn_Modelling.csv')\n",
    "dataset.head()"
   ]
  },
  {
   "cell_type": "markdown",
   "metadata": {},
   "source": [
    "## Dividir dataset en rasgos y clases"
   ]
  },
  {
   "cell_type": "code",
   "execution_count": 3,
   "metadata": {},
   "outputs": [],
   "source": [
    "x = dataset.iloc[:, 3:13].values\n",
    "y = dataset.iloc[:, 13].values"
   ]
  },
  {
   "cell_type": "markdown",
   "metadata": {},
   "source": [
    "## Preprocesamiento de datos"
   ]
  },
  {
   "cell_type": "code",
   "execution_count": 4,
   "metadata": {},
   "outputs": [],
   "source": [
    "# --> Valores categoricos para varias columnas para paises\n",
    "\n",
    "from sklearn.preprocessing import OneHotEncoder\n",
    "from sklearn.compose import ColumnTransformer\n",
    "\n",
    "# --> Transformar varias columnas\n",
    "ct = ColumnTransformer(\n",
    "    # Columnas para transformar\n",
    "    [('one_hot_encoder1', OneHotEncoder(), [1])],\n",
    "    # Lo que pasara con las demas columnas\n",
    "    remainder=\"passthrough\"\n",
    ")\n",
    "\n",
    "x = ct.fit_transform(x)"
   ]
  },
  {
   "cell_type": "code",
   "execution_count": 5,
   "metadata": {},
   "outputs": [],
   "source": [
    "# --> Para columna de genero\n",
    "\n",
    "from sklearn.preprocessing import LabelEncoder\n",
    "\n",
    "label_encoder = LabelEncoder()\n",
    "\n",
    "x[:, 4] = label_encoder.fit_transform(x[:, 4])"
   ]
  },
  {
   "cell_type": "code",
   "execution_count": 6,
   "metadata": {},
   "outputs": [],
   "source": [
    "# --> Solucionar problema de multicolinealidad(eliminar una de las variables dummy)\n",
    "x = x[:, 1:]"
   ]
  },
  {
   "cell_type": "markdown",
   "metadata": {},
   "source": [
    "## Dividir en entrenamiento y prueba"
   ]
  },
  {
   "cell_type": "code",
   "execution_count": 7,
   "metadata": {},
   "outputs": [
    {
     "data": {
      "text/plain": [
       "array([[0.0, 1.0, 667, ..., 1, 0, 163830.64],\n",
       "       [1.0, 0.0, 427, ..., 1, 1, 57098.0],\n",
       "       [0.0, 0.0, 535, ..., 1, 0, 185630.76],\n",
       "       ...,\n",
       "       [0.0, 0.0, 738, ..., 1, 0, 181429.87],\n",
       "       [0.0, 1.0, 590, ..., 1, 1, 148750.16],\n",
       "       [1.0, 0.0, 623, ..., 1, 0, 118855.26]], dtype=object)"
      ]
     },
     "execution_count": 7,
     "metadata": {},
     "output_type": "execute_result"
    }
   ],
   "source": [
    "from sklearn.model_selection import train_test_split\n",
    "\n",
    "x_train, x_test, y_train, y_test = train_test_split(x, y, test_size=0.2, random_state=0)\n",
    "x_train"
   ]
  },
  {
   "cell_type": "markdown",
   "metadata": {},
   "source": [
    "## Escalado de variables"
   ]
  },
  {
   "cell_type": "code",
   "execution_count": 8,
   "metadata": {},
   "outputs": [],
   "source": [
    "from sklearn.preprocessing import StandardScaler\n",
    "\n",
    "# --> Objeto para estandarizar\n",
    "sc_x = StandardScaler()\n",
    "\n",
    "# --> Aplicar estandarizacion\n",
    "x_train = sc_x.fit_transform(x_train)\n",
    "x_test = sc_x.transform(x_test)\n"
   ]
  },
  {
   "cell_type": "markdown",
   "metadata": {},
   "source": [
    "## Construir la red neuronal artificial"
   ]
  },
  {
   "cell_type": "code",
   "execution_count": 9,
   "metadata": {},
   "outputs": [],
   "source": [
    "# --> Librerias\n",
    "\n",
    "import keras\n",
    "from keras.models import Sequential     # Red neuronal por capas\n",
    "from keras.layers import Dense          # Capas densas"
   ]
  },
  {
   "cell_type": "code",
   "execution_count": 21,
   "metadata": {},
   "outputs": [],
   "source": [
    "# --> Inicializar red neuronal\n",
    "\n",
    "classifier = Sequential()"
   ]
  },
  {
   "cell_type": "code",
   "execution_count": 22,
   "metadata": {},
   "outputs": [],
   "source": [
    "# --> Capa de entrada y primera capa oculta\n",
    "# Para los nodos de salida = (nodos de entrada + 1) / 2\n",
    "\n",
    "classifier.add(Dense(\n",
    "    units=6,                        # Numero de nodos de salida \n",
    "    kernel_initializer='uniform',   # Inicializacion de los pesos\n",
    "    activation='relu',              # Funcion de activacion\n",
    "    input_dim=11                    # Numero de nodos de entrada\n",
    "    ))"
   ]
  },
  {
   "cell_type": "code",
   "execution_count": 23,
   "metadata": {},
   "outputs": [],
   "source": [
    "# --> Segunda capa oculta\n",
    "\n",
    "classifier.add(Dense(\n",
    "    units=6,                        # Numero de nodos de salida\n",
    "    kernel_initializer='uniform',   # Inicializacion de los pesos\n",
    "    activation='relu',              # Funcion de activacion\n",
    "))\n"
   ]
  },
  {
   "cell_type": "code",
   "execution_count": 25,
   "metadata": {},
   "outputs": [],
   "source": [
    "# --> Terdera capa oculta\n",
    "\n",
    "classifier.add(Dense(\n",
    "    units=6,                        # Numero de nodos de salida\n",
    "    kernel_initializer='uniform',   # Inicializacion de los pesos\n",
    "    activation='relu',              # Funcion de activacion\n",
    "))"
   ]
  },
  {
   "cell_type": "code",
   "execution_count": 26,
   "metadata": {},
   "outputs": [],
   "source": [
    "# --> Capa de salida\n",
    "# Dado que regresara 1 o 0 entonces las capas de salida sera solo 1, si fuera a clasificar 3 clases entonces las capas son 3 y la función de activación cambiaría\n",
    "\n",
    "classifier.add(Dense(\n",
    "    units=1,                        # Numero de nodos de salida\n",
    "    kernel_initializer='uniform',   # Inicializacion de los pesos\n",
    "    activation='sigmoid',           # Funcion de activacion\n",
    "))"
   ]
  },
  {
   "cell_type": "code",
   "execution_count": 27,
   "metadata": {},
   "outputs": [],
   "source": [
    "# --> Compilar red neuronal\n",
    "\n",
    "classifier.compile(\n",
    "    optimizer='adam',               # Algoritmo de optimizacion\n",
    "    loss='binary_crossentropy',     # Funcion de perdida\n",
    "    metrics=['accuracy']            # Metrica de evaluacion\n",
    ")"
   ]
  },
  {
   "cell_type": "markdown",
   "metadata": {},
   "source": [
    "## Entrenar red neuronal"
   ]
  },
  {
   "cell_type": "code",
   "execution_count": 28,
   "metadata": {},
   "outputs": [
    {
     "name": "stdout",
     "output_type": "stream",
     "text": [
      "Epoch 1/50\n",
      "800/800 [==============================] - 2s 2ms/step - loss: 0.6138 - accuracy: 0.7956\n",
      "Epoch 2/50\n",
      "800/800 [==============================] - 1s 2ms/step - loss: 0.5340 - accuracy: 0.7960\n",
      "Epoch 3/50\n",
      "800/800 [==============================] - 1s 2ms/step - loss: 0.5119 - accuracy: 0.7960\n",
      "Epoch 4/50\n",
      "800/800 [==============================] - 1s 2ms/step - loss: 0.5069 - accuracy: 0.7960\n",
      "Epoch 5/50\n",
      "800/800 [==============================] - 1s 2ms/step - loss: 0.5061 - accuracy: 0.7960\n",
      "Epoch 6/50\n",
      "800/800 [==============================] - 1s 2ms/step - loss: 0.5060 - accuracy: 0.7960\n",
      "Epoch 7/50\n",
      "800/800 [==============================] - 1s 2ms/step - loss: 0.5059 - accuracy: 0.7960\n",
      "Epoch 8/50\n",
      "800/800 [==============================] - 1s 2ms/step - loss: 0.5059 - accuracy: 0.7960\n",
      "Epoch 9/50\n",
      "800/800 [==============================] - 1s 2ms/step - loss: 0.5059 - accuracy: 0.7960\n",
      "Epoch 10/50\n",
      "800/800 [==============================] - 1s 2ms/step - loss: 0.5059 - accuracy: 0.7960\n",
      "Epoch 11/50\n",
      "800/800 [==============================] - 1s 2ms/step - loss: 0.5060 - accuracy: 0.7960\n",
      "Epoch 12/50\n",
      "800/800 [==============================] - 1s 2ms/step - loss: 0.5060 - accuracy: 0.7960\n",
      "Epoch 13/50\n",
      "800/800 [==============================] - 1s 2ms/step - loss: 0.5060 - accuracy: 0.7960\n",
      "Epoch 14/50\n",
      "800/800 [==============================] - 1s 2ms/step - loss: 0.5059 - accuracy: 0.7960\n",
      "Epoch 15/50\n",
      "800/800 [==============================] - 1s 2ms/step - loss: 0.5060 - accuracy: 0.7960\n",
      "Epoch 16/50\n",
      "800/800 [==============================] - 1s 2ms/step - loss: 0.5059 - accuracy: 0.7960\n",
      "Epoch 17/50\n",
      "800/800 [==============================] - 1s 2ms/step - loss: 0.5060 - accuracy: 0.7960\n",
      "Epoch 18/50\n",
      "800/800 [==============================] - 1s 2ms/step - loss: 0.5059 - accuracy: 0.7960\n",
      "Epoch 19/50\n",
      "800/800 [==============================] - 1s 2ms/step - loss: 0.5060 - accuracy: 0.7960\n",
      "Epoch 20/50\n",
      "800/800 [==============================] - 1s 2ms/step - loss: 0.5060 - accuracy: 0.7960\n",
      "Epoch 21/50\n",
      "800/800 [==============================] - 1s 2ms/step - loss: 0.5059 - accuracy: 0.7960\n",
      "Epoch 22/50\n",
      "800/800 [==============================] - 1s 2ms/step - loss: 0.5060 - accuracy: 0.7960\n",
      "Epoch 23/50\n",
      "800/800 [==============================] - 1s 2ms/step - loss: 0.5059 - accuracy: 0.7960\n",
      "Epoch 24/50\n",
      "800/800 [==============================] - 1s 2ms/step - loss: 0.5059 - accuracy: 0.7960\n",
      "Epoch 25/50\n",
      "800/800 [==============================] - 1s 2ms/step - loss: 0.5060 - accuracy: 0.7960\n",
      "Epoch 26/50\n",
      "800/800 [==============================] - 1s 2ms/step - loss: 0.5060 - accuracy: 0.7960\n",
      "Epoch 27/50\n",
      "800/800 [==============================] - 1s 2ms/step - loss: 0.5060 - accuracy: 0.7960\n",
      "Epoch 28/50\n",
      "800/800 [==============================] - 2s 2ms/step - loss: 0.5059 - accuracy: 0.7960\n",
      "Epoch 29/50\n",
      "800/800 [==============================] - 2s 2ms/step - loss: 0.5059 - accuracy: 0.7960\n",
      "Epoch 30/50\n",
      "800/800 [==============================] - 2s 2ms/step - loss: 0.5060 - accuracy: 0.7960\n",
      "Epoch 31/50\n",
      "800/800 [==============================] - 1s 2ms/step - loss: 0.5060 - accuracy: 0.7960\n",
      "Epoch 32/50\n",
      "800/800 [==============================] - 2s 2ms/step - loss: 0.5059 - accuracy: 0.7960\n",
      "Epoch 33/50\n",
      "800/800 [==============================] - 2s 2ms/step - loss: 0.5060 - accuracy: 0.7960\n",
      "Epoch 34/50\n",
      "800/800 [==============================] - 1s 2ms/step - loss: 0.5060 - accuracy: 0.7960\n",
      "Epoch 35/50\n",
      "800/800 [==============================] - 2s 2ms/step - loss: 0.5060 - accuracy: 0.7960\n",
      "Epoch 36/50\n",
      "800/800 [==============================] - 2s 2ms/step - loss: 0.5059 - accuracy: 0.7960\n",
      "Epoch 37/50\n",
      "800/800 [==============================] - 2s 2ms/step - loss: 0.5060 - accuracy: 0.7960\n",
      "Epoch 38/50\n",
      "800/800 [==============================] - 2s 2ms/step - loss: 0.5059 - accuracy: 0.7960\n",
      "Epoch 39/50\n",
      "800/800 [==============================] - 2s 2ms/step - loss: 0.5060 - accuracy: 0.7960\n",
      "Epoch 40/50\n",
      "800/800 [==============================] - 2s 2ms/step - loss: 0.5060 - accuracy: 0.7960\n",
      "Epoch 41/50\n",
      "800/800 [==============================] - 2s 2ms/step - loss: 0.5059 - accuracy: 0.7960\n",
      "Epoch 42/50\n",
      "800/800 [==============================] - 2s 2ms/step - loss: 0.5060 - accuracy: 0.7960\n",
      "Epoch 43/50\n",
      "800/800 [==============================] - 2s 2ms/step - loss: 0.5059 - accuracy: 0.7960\n",
      "Epoch 44/50\n",
      "800/800 [==============================] - 1s 2ms/step - loss: 0.5059 - accuracy: 0.7960\n",
      "Epoch 45/50\n",
      "800/800 [==============================] - 1s 2ms/step - loss: 0.5059 - accuracy: 0.7960\n",
      "Epoch 46/50\n",
      "800/800 [==============================] - 2s 2ms/step - loss: 0.5060 - accuracy: 0.7960\n",
      "Epoch 47/50\n",
      "800/800 [==============================] - 2s 2ms/step - loss: 0.5060 - accuracy: 0.7960\n",
      "Epoch 48/50\n",
      "800/800 [==============================] - 1s 2ms/step - loss: 0.5060 - accuracy: 0.7960\n",
      "Epoch 49/50\n",
      "800/800 [==============================] - 1s 2ms/step - loss: 0.5060 - accuracy: 0.7960\n",
      "Epoch 50/50\n",
      "800/800 [==============================] - 2s 2ms/step - loss: 0.5059 - accuracy: 0.7960\n"
     ]
    },
    {
     "data": {
      "text/plain": [
       "<keras.callbacks.History at 0x291c8348dd0>"
      ]
     },
     "execution_count": 28,
     "metadata": {},
     "output_type": "execute_result"
    }
   ],
   "source": [
    "# --> Ajustar red neuronal\n",
    "\n",
    "classifier.fit(\n",
    "    x_train,                        # Datos de entrenamiento\n",
    "    y_train,                        # Salida de los datos de entrenamiento\n",
    "    batch_size=10,                  # Tamaño de los lotes\n",
    "    epochs=50                       # Numero de epocas\n",
    ")"
   ]
  },
  {
   "cell_type": "markdown",
   "metadata": {},
   "source": [
    "## Predicción de valores"
   ]
  },
  {
   "cell_type": "code",
   "execution_count": 29,
   "metadata": {},
   "outputs": [
    {
     "name": "stdout",
     "output_type": "stream",
     "text": [
      "63/63 [==============================] - 0s 2ms/step\n"
     ]
    }
   ],
   "source": [
    "y_predict = classifier.predict(x_test)  # Prediccion de los datos de prueba\n",
    "y_predict = (y_predict > 0.5)           # Si es mayor a 0.5 entonces es 1, si no es 0"
   ]
  },
  {
   "cell_type": "markdown",
   "metadata": {},
   "source": [
    "## Matriz de confusión"
   ]
  },
  {
   "cell_type": "code",
   "execution_count": 30,
   "metadata": {},
   "outputs": [
    {
     "data": {
      "text/plain": [
       "array([[1595,    0],\n",
       "       [ 405,    0]], dtype=int64)"
      ]
     },
     "execution_count": 30,
     "metadata": {},
     "output_type": "execute_result"
    }
   ],
   "source": [
    "# --> Matriz de confusion\n",
    "\n",
    "from sklearn.metrics import confusion_matrix\n",
    "\n",
    "cm = confusion_matrix(y_test, y_predict)\n",
    "cm"
   ]
  },
  {
   "cell_type": "code",
   "execution_count": 31,
   "metadata": {},
   "outputs": [
    {
     "name": "stdout",
     "output_type": "stream",
     "text": [
      "Accuracy:  79.75 %\n"
     ]
    }
   ],
   "source": [
    "print('Accuracy: ', round(100*(cm[0][0] + cm[1][1]) / len(y_test), 2), '%')"
   ]
  }
 ],
 "metadata": {
  "kernelspec": {
   "display_name": "Python 3",
   "language": "python",
   "name": "python3"
  },
  "language_info": {
   "codemirror_mode": {
    "name": "ipython",
    "version": 3
   },
   "file_extension": ".py",
   "mimetype": "text/x-python",
   "name": "python",
   "nbconvert_exporter": "python",
   "pygments_lexer": "ipython3",
   "version": "3.11.3"
  },
  "orig_nbformat": 4
 },
 "nbformat": 4,
 "nbformat_minor": 2
}
