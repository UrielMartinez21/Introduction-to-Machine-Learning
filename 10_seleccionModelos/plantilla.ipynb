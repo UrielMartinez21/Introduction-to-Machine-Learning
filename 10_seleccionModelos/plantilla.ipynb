{
 "cells": [
  {
   "cell_type": "markdown",
   "metadata": {},
   "source": [
    "## Bibliotecas"
   ]
  },
  {
   "cell_type": "code",
   "execution_count": 1,
   "metadata": {},
   "outputs": [],
   "source": [
    "import pandas as pd                                     # Tratamiento de datos\n",
    "from sklearn.model_selection import StratifiedKFold     # Clases desequelibradas\n",
    "from sklearn.metrics import precision_score, f1_score, accuracy_score, recall_score\n",
    "import statistics                                       # Estadisticas\n",
    "\n"
   ]
  },
  {
   "cell_type": "markdown",
   "metadata": {},
   "source": [
    "## Leer dataset"
   ]
  },
  {
   "cell_type": "code",
   "execution_count": 2,
   "metadata": {},
   "outputs": [
    {
     "data": {
      "text/html": [
       "<div>\n",
       "<style scoped>\n",
       "    .dataframe tbody tr th:only-of-type {\n",
       "        vertical-align: middle;\n",
       "    }\n",
       "\n",
       "    .dataframe tbody tr th {\n",
       "        vertical-align: top;\n",
       "    }\n",
       "\n",
       "    .dataframe thead th {\n",
       "        text-align: right;\n",
       "    }\n",
       "</style>\n",
       "<table border=\"1\" class=\"dataframe\">\n",
       "  <thead>\n",
       "    <tr style=\"text-align: right;\">\n",
       "      <th></th>\n",
       "      <th>User ID</th>\n",
       "      <th>Gender</th>\n",
       "      <th>Age</th>\n",
       "      <th>EstimatedSalary</th>\n",
       "      <th>Purchased</th>\n",
       "    </tr>\n",
       "  </thead>\n",
       "  <tbody>\n",
       "    <tr>\n",
       "      <th>0</th>\n",
       "      <td>15624510</td>\n",
       "      <td>Male</td>\n",
       "      <td>19.0</td>\n",
       "      <td>19000.0</td>\n",
       "      <td>0</td>\n",
       "    </tr>\n",
       "    <tr>\n",
       "      <th>1</th>\n",
       "      <td>15810944</td>\n",
       "      <td>Male</td>\n",
       "      <td>35.0</td>\n",
       "      <td>20000.0</td>\n",
       "      <td>0</td>\n",
       "    </tr>\n",
       "    <tr>\n",
       "      <th>2</th>\n",
       "      <td>15668575</td>\n",
       "      <td>Female</td>\n",
       "      <td>26.0</td>\n",
       "      <td>43000.0</td>\n",
       "      <td>0</td>\n",
       "    </tr>\n",
       "    <tr>\n",
       "      <th>3</th>\n",
       "      <td>15603246</td>\n",
       "      <td>Female</td>\n",
       "      <td>27.0</td>\n",
       "      <td>57000.0</td>\n",
       "      <td>0</td>\n",
       "    </tr>\n",
       "    <tr>\n",
       "      <th>4</th>\n",
       "      <td>15804002</td>\n",
       "      <td>Male</td>\n",
       "      <td>19.0</td>\n",
       "      <td>76000.0</td>\n",
       "      <td>0</td>\n",
       "    </tr>\n",
       "  </tbody>\n",
       "</table>\n",
       "</div>"
      ],
      "text/plain": [
       "    User ID  Gender   Age  EstimatedSalary  Purchased\n",
       "0  15624510    Male  19.0          19000.0          0\n",
       "1  15810944    Male  35.0          20000.0          0\n",
       "2  15668575  Female  26.0          43000.0          0\n",
       "3  15603246  Female  27.0          57000.0          0\n",
       "4  15804002    Male  19.0          76000.0          0"
      ]
     },
     "execution_count": 2,
     "metadata": {},
     "output_type": "execute_result"
    }
   ],
   "source": [
    "dataset = pd.read_csv('Social_Network_Ads.csv')\n",
    "dataset.head()"
   ]
  },
  {
   "cell_type": "markdown",
   "metadata": {},
   "source": [
    "## Separar rasgos y clases "
   ]
  },
  {
   "cell_type": "code",
   "execution_count": 3,
   "metadata": {},
   "outputs": [],
   "source": [
    "x = dataset.iloc[:, [2, 3]].values\n",
    "y = dataset.iloc[:, 4].values"
   ]
  },
  {
   "cell_type": "markdown",
   "metadata": {},
   "source": [
    "## Preprocesamiento"
   ]
  },
  {
   "cell_type": "code",
   "execution_count": null,
   "metadata": {},
   "outputs": [],
   "source": []
  },
  {
   "cell_type": "markdown",
   "metadata": {},
   "source": [
    "## Modelo a evaluar"
   ]
  },
  {
   "cell_type": "code",
   "execution_count": 4,
   "metadata": {},
   "outputs": [],
   "source": [
    "from sklearn.naive_bayes import GaussianNB"
   ]
  },
  {
   "cell_type": "markdown",
   "metadata": {},
   "source": [
    "## Metodos de validación"
   ]
  },
  {
   "cell_type": "code",
   "execution_count": 5,
   "metadata": {},
   "outputs": [],
   "source": [
    "# --> Listas de métricas\n",
    "lista_exactitud = []\n",
    "lista_precision = []\n",
    "lista_f1score = []\n",
    "lista_sensibilidad = []"
   ]
  },
  {
   "cell_type": "code",
   "execution_count": 30,
   "metadata": {},
   "outputs": [],
   "source": [
    "# --> Objeto para validacion\n",
    "skf = StratifiedKFold(n_splits=10, shuffle=True, random_state=0)\n",
    "\n",
    "# --> Iteraciones\n",
    "for entrenamiento, prueba in skf.split(x, y):\n",
    "    # --> Separar datos en entrenamiento y prueba\n",
    "    x_entrenamiento, x_prueba = x[entrenamiento], x[prueba]\n",
    "    y_entrenamiento, y_prueba = y[entrenamiento], y[prueba]\n",
    "\n",
    "    # --> Clasificador de bayes\n",
    "    y_predicha = GaussianNB().fit(x_entrenamiento, y_entrenamiento).predict(x_prueba)\n",
    "\n",
    "    # --> Metricas\n",
    "    lista_exactitud.append(accuracy_score(y_prueba, y_predicha))\n",
    "    lista_precision.append(precision_score(y_prueba, y_predicha, average=\"macro\"))\n",
    "    lista_f1score.append(f1_score(y_prueba, y_predicha, average=\"macro\"))\n",
    "    lista_sensibilidad.append(recall_score(y_prueba, y_predicha, average=\"macro\"))\n"
   ]
  },
  {
   "cell_type": "code",
   "execution_count": 34,
   "metadata": {},
   "outputs": [
    {
     "name": "stdout",
     "output_type": "stream",
     "text": [
      "\n",
      "[+]Exactitud:\t 88.31 %\n",
      "[+]Presicion:\t 88.36 %\n",
      "[+]F1-score:\t 86.84 %\n",
      "[+]Sensibilidad: 86.39 %\n",
      "\n"
     ]
    }
   ],
   "source": [
    "print(f\"\"\"\n",
    "[+]Exactitud:\\t {round(100*(statistics.mean(lista_exactitud)), 2)} %\n",
    "[+]Presicion:\\t {round(100*(statistics.mean(lista_precision)), 2)} %\n",
    "[+]F1-score:\\t {round(100*(statistics.mean(lista_f1score)), 2)} %\n",
    "[+]Sensibilidad: {round(100*(statistics.mean(lista_sensibilidad)), 2)} %\n",
    "\"\"\")\n"
   ]
  },
  {
   "cell_type": "markdown",
   "metadata": {},
   "source": [
    "## Busqueda de mejores parametros"
   ]
  },
  {
   "cell_type": "code",
   "execution_count": 35,
   "metadata": {},
   "outputs": [],
   "source": [
    "from sklearn.model_selection import train_test_split\n",
    "x_train, x_test, y_train, y_test = train_test_split(x, y, random_state=0)\n"
   ]
  },
  {
   "cell_type": "code",
   "execution_count": 36,
   "metadata": {},
   "outputs": [
    {
     "name": "stdout",
     "output_type": "stream",
     "text": [
      "[+]Mejor exactitud: 87.99999999999999 %\n",
      "[+]Mejores parametros: {'var_smoothing': 1e-09}\n"
     ]
    }
   ],
   "source": [
    "from sklearn.model_selection import GridSearchCV\n",
    "\n",
    "# --> Parametros a evaluar\n",
    "parametros = {'var_smoothing': [1e-09, 1e-08, 1e-07, 1e-06, 1e-05]}\n",
    "\n",
    "# --> Crear objeto de busqueda\n",
    "busqueda = GridSearchCV(\n",
    "    estimator = GaussianNB(), \n",
    "    param_grid=parametros, \n",
    "    scoring='accuracy', \n",
    "    cv=skf                       # Entero si esta balanceado el dataset\n",
    "    )\n",
    "\n",
    "# --> Entrenar objeto de busqueda\n",
    "busqueda = busqueda.fit(x_train, y_train)\n",
    "\n",
    "# --> Resultados\n",
    "print(f\"[+]Mejor exactitud: {100*busqueda.best_score_} %\")\n",
    "print(f\"[+]Mejores parametros: {busqueda.best_params_}\")\n",
    "\n"
   ]
  },
  {
   "cell_type": "code",
   "execution_count": 40,
   "metadata": {},
   "outputs": [
    {
     "data": {
      "text/plain": [
       "0.9"
      ]
     },
     "execution_count": 40,
     "metadata": {},
     "output_type": "execute_result"
    }
   ],
   "source": [
    "classifier = GaussianNB(var_smoothing=1e-09)\n",
    "classifier.fit(x_train, y_train)\n",
    "classifier.score(x_test, y_test)\n"
   ]
  }
 ],
 "metadata": {
  "kernelspec": {
   "display_name": "Python 3",
   "language": "python",
   "name": "python3"
  },
  "language_info": {
   "codemirror_mode": {
    "name": "ipython",
    "version": 3
   },
   "file_extension": ".py",
   "mimetype": "text/x-python",
   "name": "python",
   "nbconvert_exporter": "python",
   "pygments_lexer": "ipython3",
   "version": "3.11.3"
  },
  "orig_nbformat": 4
 },
 "nbformat": 4,
 "nbformat_minor": 2
}
