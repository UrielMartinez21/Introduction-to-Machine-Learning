{
 "cells": [
  {
   "cell_type": "markdown",
   "metadata": {},
   "source": [
    "## Bibliotecas"
   ]
  },
  {
   "cell_type": "code",
   "execution_count": 6,
   "metadata": {},
   "outputs": [],
   "source": [
    "import pandas as pd                                     # Tratamiento de datos\n",
    "\n",
    "from sklearn.model_selection import StratifiedKFold     # Clases desequelibradas\n",
    "from sklearn.metrics import precision_score, f1_score, accuracy_score, recall_score\n",
    "import statistics                                       # Estadisticas\n",
    "\n"
   ]
  },
  {
   "cell_type": "markdown",
   "metadata": {},
   "source": [
    "## Leer dataset"
   ]
  },
  {
   "cell_type": "code",
   "execution_count": 2,
   "metadata": {},
   "outputs": [
    {
     "data": {
      "text/html": [
       "<div>\n",
       "<style scoped>\n",
       "    .dataframe tbody tr th:only-of-type {\n",
       "        vertical-align: middle;\n",
       "    }\n",
       "\n",
       "    .dataframe tbody tr th {\n",
       "        vertical-align: top;\n",
       "    }\n",
       "\n",
       "    .dataframe thead th {\n",
       "        text-align: right;\n",
       "    }\n",
       "</style>\n",
       "<table border=\"1\" class=\"dataframe\">\n",
       "  <thead>\n",
       "    <tr style=\"text-align: right;\">\n",
       "      <th></th>\n",
       "      <th>User ID</th>\n",
       "      <th>Gender</th>\n",
       "      <th>Age</th>\n",
       "      <th>EstimatedSalary</th>\n",
       "      <th>Purchased</th>\n",
       "    </tr>\n",
       "  </thead>\n",
       "  <tbody>\n",
       "    <tr>\n",
       "      <th>0</th>\n",
       "      <td>15624510</td>\n",
       "      <td>Male</td>\n",
       "      <td>19.0</td>\n",
       "      <td>19000.0</td>\n",
       "      <td>0</td>\n",
       "    </tr>\n",
       "    <tr>\n",
       "      <th>1</th>\n",
       "      <td>15810944</td>\n",
       "      <td>Male</td>\n",
       "      <td>35.0</td>\n",
       "      <td>20000.0</td>\n",
       "      <td>0</td>\n",
       "    </tr>\n",
       "    <tr>\n",
       "      <th>2</th>\n",
       "      <td>15668575</td>\n",
       "      <td>Female</td>\n",
       "      <td>26.0</td>\n",
       "      <td>43000.0</td>\n",
       "      <td>0</td>\n",
       "    </tr>\n",
       "    <tr>\n",
       "      <th>3</th>\n",
       "      <td>15603246</td>\n",
       "      <td>Female</td>\n",
       "      <td>27.0</td>\n",
       "      <td>57000.0</td>\n",
       "      <td>0</td>\n",
       "    </tr>\n",
       "    <tr>\n",
       "      <th>4</th>\n",
       "      <td>15804002</td>\n",
       "      <td>Male</td>\n",
       "      <td>19.0</td>\n",
       "      <td>76000.0</td>\n",
       "      <td>0</td>\n",
       "    </tr>\n",
       "  </tbody>\n",
       "</table>\n",
       "</div>"
      ],
      "text/plain": [
       "    User ID  Gender   Age  EstimatedSalary  Purchased\n",
       "0  15624510    Male  19.0          19000.0          0\n",
       "1  15810944    Male  35.0          20000.0          0\n",
       "2  15668575  Female  26.0          43000.0          0\n",
       "3  15603246  Female  27.0          57000.0          0\n",
       "4  15804002    Male  19.0          76000.0          0"
      ]
     },
     "execution_count": 2,
     "metadata": {},
     "output_type": "execute_result"
    }
   ],
   "source": [
    "dataset = pd.read_csv('Social_Network_Ads.csv')\n",
    "dataset.head()"
   ]
  },
  {
   "cell_type": "markdown",
   "metadata": {},
   "source": [
    "## Separar rasgos y clases "
   ]
  },
  {
   "cell_type": "code",
   "execution_count": 3,
   "metadata": {},
   "outputs": [],
   "source": [
    "x = dataset.iloc[:, [2, 3]].values\n",
    "y = dataset.iloc[:, 4].values"
   ]
  },
  {
   "cell_type": "markdown",
   "metadata": {},
   "source": [
    "## Modelo a evaluar"
   ]
  },
  {
   "cell_type": "code",
   "execution_count": 4,
   "metadata": {},
   "outputs": [],
   "source": [
    "from sklearn.naive_bayes import GaussianNB\n",
    "gnb = GaussianNB()"
   ]
  },
  {
   "cell_type": "markdown",
   "metadata": {},
   "source": [
    "## Metodos de validación"
   ]
  },
  {
   "cell_type": "markdown",
   "metadata": {},
   "source": [
    "#### Evaluar exactitud"
   ]
  },
  {
   "cell_type": "code",
   "execution_count": 5,
   "metadata": {},
   "outputs": [
    {
     "name": "stdout",
     "output_type": "stream",
     "text": [
      "[+]Exactitud: 87.75 %\n",
      "[+]Desviación estandar: 7.862092596758193 %\n"
     ]
    }
   ],
   "source": [
    "from sklearn.model_selection import cross_val_score\n",
    "\n",
    "scores = cross_val_score(gnb, x, y, cv=10, scoring='accuracy')\n",
    "print(f\"[+]Exactitud: {100 * scores.mean()} %\")\n",
    "print(f\"[+]Desviación estandar: {100 * scores.std()} %\")\n"
   ]
  },
  {
   "cell_type": "markdown",
   "metadata": {},
   "source": [
    "#### Validación cruzada"
   ]
  },
  {
   "cell_type": "code",
   "execution_count": 8,
   "metadata": {},
   "outputs": [
    {
     "name": "stdout",
     "output_type": "stream",
     "text": [
      "\n",
      "[+]Exactitud:\t 87.75 %\n",
      "[+]Presicion:\t 88.72451175227944 %\n",
      "[+]F1-score:\t 85.94971059261759 %\n",
      "[+]Sensibilidad: 85.5014652014652 %\n",
      "\n"
     ]
    }
   ],
   "source": [
    "# --> Lista de metricas\n",
    "lista_exactitud = []\n",
    "lista_precison = []\n",
    "lista_f1score = []\n",
    "lista_sensibilidad = []\n",
    "\n",
    "# --> Objeto para validacion\n",
    "skf = StratifiedKFold(n_splits=10)\n",
    "\n",
    "\n",
    "# ------------| Método de validación k-fold  cross-validation |------------\n",
    "# --> Iteraciones\n",
    "for entramiento, prueba in skf.split(x, y):\n",
    "    # --> Separar datos en entrenamiento y prueba\n",
    "    x_entrenamiento = [x[z] for z in entramiento]\n",
    "    x_prueba = [x[z] for z in prueba]\n",
    "\n",
    "    y_entrenamiento = [y[z] for z in entramiento]\n",
    "    y_prueba = [y[z] for z in prueba]\n",
    "\n",
    "    # --> Clasificador de bayes\n",
    "    y_predicha = gnb.fit(x_entrenamiento, y_entrenamiento).predict(x_prueba)\n",
    "\n",
    "    # --> Metricas\n",
    "    lista_exactitud.append(accuracy_score(y_prueba, y_predicha))\n",
    "    lista_precison.append(precision_score(y_prueba, y_predicha, average=\"macro\"))\n",
    "    lista_f1score.append(f1_score(y_prueba, y_predicha, average=\"macro\"))\n",
    "    lista_sensibilidad.append(recall_score(y_prueba, y_predicha, average=\"macro\"))\n",
    "\n",
    "print(f\"\"\"\n",
    "[+]Exactitud:\\t {100*(statistics.mean(lista_exactitud))} %\n",
    "[+]Presicion:\\t {100*(statistics.mean(lista_precison))} %\n",
    "[+]F1-score:\\t {100*(statistics.mean(lista_f1score))} %\n",
    "[+]Sensibilidad: {100*(statistics.mean(lista_sensibilidad))} %\n",
    "\"\"\")\n"
   ]
  },
  {
   "cell_type": "markdown",
   "metadata": {},
   "source": [
    "## Busqueda de mejores parametros"
   ]
  },
  {
   "cell_type": "code",
   "execution_count": 38,
   "metadata": {},
   "outputs": [
    {
     "name": "stdout",
     "output_type": "stream",
     "text": [
      "[+]Mejor exactitud: 87.75 %\n",
      "[+]Mejores parametros: {'var_smoothing': 1e-09}\n"
     ]
    }
   ],
   "source": [
    "from sklearn.model_selection import GridSearchCV\n",
    "\n",
    "# --> Parametros a evaluar\n",
    "parametros = {'var_smoothing': [1e-09, 1e-08, 1e-07, 1e-06, 1e-05]}\n",
    "\n",
    "# --> Objeto de busqueda\n",
    "busqueda = GridSearchCV(estimator=gnb, param_grid=parametros, scoring='accuracy', cv=10)\n",
    "\n",
    "# --> Entrenamiento\n",
    "busqueda = busqueda.fit(x, y)\n",
    "\n",
    "# --> Resultados\n",
    "print(f\"[+]Mejor exactitud: {100*busqueda.best_score_} %\")\n",
    "print(f\"[+]Mejores parametros: {busqueda.best_params_}\")\n",
    "\n"
   ]
  }
 ],
 "metadata": {
  "kernelspec": {
   "display_name": "Python 3",
   "language": "python",
   "name": "python3"
  },
  "language_info": {
   "codemirror_mode": {
    "name": "ipython",
    "version": 3
   },
   "file_extension": ".py",
   "mimetype": "text/x-python",
   "name": "python",
   "nbconvert_exporter": "python",
   "pygments_lexer": "ipython3",
   "version": "3.11.3"
  },
  "orig_nbformat": 4
 },
 "nbformat": 4,
 "nbformat_minor": 2
}
